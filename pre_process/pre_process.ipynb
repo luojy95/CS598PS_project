{
 "cells": [
  {
   "cell_type": "code",
   "execution_count": 3,
   "metadata": {},
   "outputs": [
    {
     "name": "stdout",
     "output_type": "stream",
     "text": [
      "9 category,\n",
      "18 attribute,\n",
      "4 visibility,\n",
      "18421 instance,\n",
      "10 sensor,\n",
      "148 calibrated_sensor,\n",
      "177789 ego_pose,\n",
      "180 log,\n",
      "180 scene,\n",
      "22680 sample,\n",
      "189504 sample_data,\n",
      "638179 sample_annotation,\n",
      "1 map,\n",
      "Done loading in 43.7 seconds.\n",
      "======\n",
      "Reverse indexing ...\n",
      "Done reverse indexing in 4.4 seconds.\n",
      "======\n"
     ]
    }
   ],
   "source": [
    "from lyft_dataset_sdk.utils.data_classes import LidarPointCloud\n",
    "from lyft_dataset_sdk.lyftdataset import LyftDataset, LyftDatasetExplorer, Quaternion, view_points\n",
    "import pandas as pd\n",
    "import os\n",
    "import numpy as np\n",
    "from pathlib import Path\n",
    "\n",
    "ROOT = \"./train_data/\"\n",
    "POINTCLOUD = ROOT + \"pointcloud/\"\n",
    "ANNOTATION = ROOT + \"annotation/\"\n",
    "DATA_PATH = './3d-object-detection-for-autonomous-vehicles/'\n",
    "lyftdata = LyftDataset(data_path=DATA_PATH, json_path=DATA_PATH+'train_data')\n",
    "train = pd.read_csv('./3d-object-detection-for-autonomous-vehicles/train.csv')"
   ]
  },
  {
   "cell_type": "code",
   "execution_count": 36,
   "metadata": {},
   "outputs": [],
   "source": [
    "def create_folder(path):\n",
    "    try: \n",
    "        os.makedirs(path, exist_ok = True) \n",
    "    except OSError as error: \n",
    "        print(\"Directory '%s' can not be created\" % path) \n",
    "\n",
    "def save_pointcloud(path, pd):\n",
    "    np.save(path, pd)\n",
    "\n",
    "def load_pointcloud(path):\n",
    "    return np.load(path)\n",
    "\n",
    "def save_annotation(path, at):\n",
    "    with open(path, \"w\") as f:\n",
    "        f.write(at)\n",
    "\n",
    "def load_annotation(path):\n",
    "    with open(path) as f:\n",
    "        out = str(f.read().strip())\n",
    "    return out\n",
    "\n",
    "def extract_pd_at(idx, train = train, lyftdata = lyftdata):\n",
    "    # Get the annotation\n",
    "    label = train.iloc[idx]['PredictionString']\n",
    "    \n",
    "    # Get the pointcloud\n",
    "    token = train.iloc[idx]['Id']\n",
    "    sample_ = lyftdata.get('sample', token)\n",
    "    \n",
    "    output = np.array([1])\n",
    "    if 'LIDAR_TOP' in sample_['data']:\n",
    "        lidar_top = lyftdata.get('sample_data', sample_['data']['LIDAR_TOP'])\n",
    "        pc = LidarPointCloud.from_file(Path(\"3d-object-detection-for-autonomous-vehicles/\"+lidar_top['filename']))\n",
    "        pc_top = pc.points[0:-1,:]\n",
    "        output = pc_top\n",
    "    if 'LIDAR_FRONT_RIGHT' in sample_['data']:\n",
    "        lidar_front_right = lyftdata.get('sample_data', sample_['data']['LIDAR_FRONT_RIGHT'])\n",
    "        pc = LidarPointCloud.from_file(Path(\"3d-object-detection-for-autonomous-vehicles/\"+lidar_top['filename']))\n",
    "        pc_front_right = pc.points[0:-1,:]\n",
    "        if output.size <= 1:\n",
    "            output = pc_front_right\n",
    "        else:\n",
    "            output = np.concatenate([output, pc_front_right], axis = 1)\n",
    "    if 'LIDAR_FRONT_LEFT' in sample_['data']:\n",
    "        lidar_front_left = lyftdata.get('sample_data', sample_['data']['LIDAR_FRONT_LEFT'])\n",
    "        pc = LidarPointCloud.from_file(Path(\"3d-object-detection-for-autonomous-vehicles/\"+lidar_top['filename']))\n",
    "        pc_front_left = pc.points[0:-1,:]\n",
    "        if output.size <= 1:\n",
    "            output = pc_front_left\n",
    "        else:\n",
    "            output = np.concatenate([output, pc_front_left], axis = 1)\n",
    "    return label, output\n",
    "\n",
    "def save_pd_at(train = train):\n",
    "    total_num = train.shape[0]\n",
    "    for idx in range(total_num):\n",
    "        if idx % 250 == 0 or idx == total_num - 1:\n",
    "            print(\"Finish %4.2f%%\" % ((idx/total_num)*100))\n",
    "        annotation, pointcloud = extract_pd_at(idx)\n",
    "        pointcloud_path = POINTCLOUD + \"pointcloud_\" + str(idx) + \".npy\"\n",
    "        annotation_path = ANNOTATION + \"annotation_\" + str(idx) + \".txt\"\n",
    "        save_pointcloud(pointcloud_path, pointcloud)\n",
    "        save_annotation(annotation_path, annotation)"
   ]
  },
  {
   "cell_type": "code",
   "execution_count": 37,
   "metadata": {},
   "outputs": [],
   "source": [
    "create_folder(ROOT)\n",
    "create_folder(POINTCLOUD)\n",
    "create_folder(ANNOTATION)"
   ]
  },
  {
   "cell_type": "code",
   "execution_count": null,
   "metadata": {},
   "outputs": [
    {
     "name": "stdout",
     "output_type": "stream",
     "text": [
      "Finish 0.00%\n",
      "Finish 1.10%\n",
      "Finish 2.20%\n",
      "Finish 3.31%\n",
      "Finish 4.41%\n",
      "Finish 5.51%\n"
     ]
    }
   ],
   "source": [
    "save_pd_at()"
   ]
  }
 ],
 "metadata": {
  "kernelspec": {
   "display_name": "Python 3",
   "language": "python",
   "name": "python3"
  },
  "language_info": {
   "codemirror_mode": {
    "name": "ipython",
    "version": 3
   },
   "file_extension": ".py",
   "mimetype": "text/x-python",
   "name": "python",
   "nbconvert_exporter": "python",
   "pygments_lexer": "ipython3",
   "version": "3.6.9"
  }
 },
 "nbformat": 4,
 "nbformat_minor": 2
}
